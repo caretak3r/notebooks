{
 "cells": [
  {
   "cell_type": "code",
   "execution_count": null,
   "metadata": {},
   "outputs": [],
   "source": [
    "import paperscraper\n",
    "import nest_asyncio\n",
    "\n",
    "nest_asyncio.apply()\n",
    "import logging\n",
    "import streamlit as st\n",
    "from streamlit_jupyter import StreamlitPatcher, tqdm\n",
    "\n",
    "StreamlitPatcher().jupyter()\n",
    "\n",
    "logger = logging.basicConfig(\n",
    "    format=\"%(asctime)s - %(message)s\", datefmt=\"%d-%b-%y %H:%M:%S\", level=logging.DEBUG\n",
    ")\n",
    "\n",
    "query = \"monorepos\"\n",
    "\n",
    "\n",
    "st.title(\"PaperScraper\")\n",
    "st.write(\"Search for papers on any topic and download them in a single click!\")\n",
    "query = st.text_input(\"Enter the topic you want to search papers on\")\n",
    "\n",
    "# st.write(\"Searching for papers on\", query, \"...\")\n",
    "paper = paperscraper.search_papers(\n",
    "    query,\n",
    "    limit=5,\n",
    "    pdir=f\"C:/Users/rohit/Documents/pdfs/{query.replace(' ', '_')}_papers\",\n",
    "    verbose=True,\n",
    "    logger=logger,\n",
    ")"
   ]
  }
 ],
 "metadata": {
  "kernelspec": {
   "display_name": "textualize-paper-qa-FwPdbxm8",
   "language": "python",
   "name": "python3"
  },
  "language_info": {
   "codemirror_mode": {
    "name": "ipython",
    "version": 3
   },
   "file_extension": ".py",
   "mimetype": "text/x-python",
   "name": "python",
   "nbconvert_exporter": "python",
   "pygments_lexer": "ipython3",
   "version": "3.10.6"
  },
  "orig_nbformat": 4
 },
 "nbformat": 4,
 "nbformat_minor": 2
}
