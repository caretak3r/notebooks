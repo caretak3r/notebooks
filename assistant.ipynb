{
 "cells": [
  {
   "cell_type": "code",
   "execution_count": null,
   "metadata": {},
   "outputs": [],
   "source": [
    "import openai\n",
    "import os\n",
    "\n",
    "openai.api_key = os.environ[\"OPENAI_API_KEY\"]\n",
    "\n",
    "# prompt = f\"\"\"You are a helpful author. You will help me write blog posts on various topics. Blog posts should include images, and the entirety of the blog post cannot exceed 20000 words. Content has to be about niche topics or subjects, and cannot be copywritten. This must be completely original with direct input from a user.\"\"\"\n",
    "# question = \"Can you give me a brief synopsis on uranium?\"\n",
    "\n",
    "prompt = \"You are a helpful assistance and professor. You will help me become a distributed systems engineer. You will teach me about the following topics found on this webpage https://cs.ccsu.edu/~stan/classes/CS530/Notes18/17-DistributedSE.html\"\n",
    "question = \"Please come up with planned lessons for me to become a distributed systems engineer.\"\n",
    "\n",
    "# prompt = \"I don't know how to code, but I want to understand how this works. Explain the following code to me in a way that a non-technical person can understand. Always use Markdown with nice formatting to make it easier to follow. Organize it by sections with headers. Include references to the code as markdown code blocks in each section. The code:\"\n",
    "\n",
    "# can also use assistant {\"role\": \"assistant\", \"content\": \"The Los Angeles Dodgers won the World Series in 2020.\"},\n",
    "# prompts prime the model with context\n",
    "chat = openai.ChatCompletion.create(\n",
    "    model=\"gpt-4\",\n",
    "    messages=[\n",
    "        {\"role\": \"system\", \"content\": prompt},\n",
    "        {\"role\": \"user\", \"content\": question},\n",
    "    ],\n",
    "    max_tokens=1000,\n",
    "    stop=None,\n",
    "    temperature=0.2,\n",
    ")\n",
    "print(f\"Usage: {chat.usage['total_tokens']} tokens\")\n",
    "answer = chat.choices[0].message.content.strip()\n",
    "print(answer)"
   ]
  }
 ],
 "metadata": {
  "kernelspec": {
   "display_name": "textualize-paper-qa-FwPdbxm8",
   "language": "python",
   "name": "python3"
  },
  "language_info": {
   "codemirror_mode": {
    "name": "ipython",
    "version": 3
   },
   "file_extension": ".py",
   "mimetype": "text/x-python",
   "name": "python",
   "nbconvert_exporter": "python",
   "pygments_lexer": "ipython3",
   "version": "3.10.6"
  },
  "orig_nbformat": 4,
  "vscode": {
   "interpreter": {
    "hash": "67ed05bfd150801523d90acfeb15eb4a8e774f2bbda59b1e2d62b30fb2d9901d"
   }
  }
 },
 "nbformat": 4,
 "nbformat_minor": 2
}
